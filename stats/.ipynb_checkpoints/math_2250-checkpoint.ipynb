{
 "cells": [
  {
   "cell_type": "markdown",
   "metadata": {},
   "source": [
    "Notes (9/4/19):\n",
    "    Overview:\n",
    "        1) Frequency Chart\n",
    "        2) Stem and Leaf Display\n",
    "        3) Grouped Data\n",
    "    \n",
    "    General Practices:\n",
    "        Do not mess with original data, make a copy\n",
    "    \n",
    "    Grouped Data\n",
    "        (55,65] <- Range of data, includes 65, DOES NOT INCLUDE 55\n",
    "        (65,75] <- numbers 66 through 75\n",
    "        (75,85] <- numbers 76 through 85\n",
    "        \n",
    "Notes (9/6/19):\n",
    "    Overview:\n",
    "        "
   ]
  },
  {
   "cell_type": "code",
   "execution_count": 1,
   "metadata": {},
   "outputs": [],
   "source": [
    "import pandas as pd\n",
    "import matplotlib as plt\n",
    "import stemgraphic"
   ]
  },
  {
   "cell_type": "code",
   "execution_count": 2,
   "metadata": {},
   "outputs": [],
   "source": [
    "#Read data in and split\n",
    "data_stuff = pd.read_csv('stats/something.csv')\n",
    "data_stuff = data_stuff.drop(['Unnamed: 0'], axis=1)\n",
    "uni_a = pd.DataFrame(data=data_stuff['University_A'])\n",
    "uni_b = pd.DataFrame(data=data_stuff['University_B'])"
   ]
  },
  {
   "cell_type": "code",
   "execution_count": 3,
   "metadata": {},
   "outputs": [],
   "source": [
    "uni_a_sorted = uni_a.sort_values(by='University_A', ascending=False)"
   ]
  },
  {
   "cell_type": "code",
   "execution_count": 4,
   "metadata": {
    "collapsed": true
   },
   "outputs": [
    {
     "data": {
      "text/html": [
       "<div>\n",
       "<style scoped>\n",
       "    .dataframe tbody tr th:only-of-type {\n",
       "        vertical-align: middle;\n",
       "    }\n",
       "\n",
       "    .dataframe tbody tr th {\n",
       "        vertical-align: top;\n",
       "    }\n",
       "\n",
       "    .dataframe thead th {\n",
       "        text-align: right;\n",
       "    }\n",
       "</style>\n",
       "<table border=\"1\" class=\"dataframe\">\n",
       "  <thead>\n",
       "    <tr style=\"text-align: right;\">\n",
       "      <th></th>\n",
       "      <th>University_A</th>\n",
       "    </tr>\n",
       "  </thead>\n",
       "  <tbody>\n",
       "    <tr>\n",
       "      <th>39</th>\n",
       "      <td>141</td>\n",
       "    </tr>\n",
       "    <tr>\n",
       "      <th>40</th>\n",
       "      <td>136</td>\n",
       "    </tr>\n",
       "    <tr>\n",
       "      <th>63</th>\n",
       "      <td>131</td>\n",
       "    </tr>\n",
       "    <tr>\n",
       "      <th>51</th>\n",
       "      <td>130</td>\n",
       "    </tr>\n",
       "    <tr>\n",
       "      <th>34</th>\n",
       "      <td>130</td>\n",
       "    </tr>\n",
       "    <tr>\n",
       "      <th>49</th>\n",
       "      <td>129</td>\n",
       "    </tr>\n",
       "    <tr>\n",
       "      <th>29</th>\n",
       "      <td>127</td>\n",
       "    </tr>\n",
       "    <tr>\n",
       "      <th>68</th>\n",
       "      <td>125</td>\n",
       "    </tr>\n",
       "    <tr>\n",
       "      <th>22</th>\n",
       "      <td>125</td>\n",
       "    </tr>\n",
       "    <tr>\n",
       "      <th>62</th>\n",
       "      <td>122</td>\n",
       "    </tr>\n",
       "    <tr>\n",
       "      <th>98</th>\n",
       "      <td>119</td>\n",
       "    </tr>\n",
       "    <tr>\n",
       "      <th>9</th>\n",
       "      <td>118</td>\n",
       "    </tr>\n",
       "    <tr>\n",
       "      <th>33</th>\n",
       "      <td>115</td>\n",
       "    </tr>\n",
       "    <tr>\n",
       "      <th>46</th>\n",
       "      <td>115</td>\n",
       "    </tr>\n",
       "    <tr>\n",
       "      <th>92</th>\n",
       "      <td>115</td>\n",
       "    </tr>\n",
       "    <tr>\n",
       "      <th>69</th>\n",
       "      <td>115</td>\n",
       "    </tr>\n",
       "    <tr>\n",
       "      <th>95</th>\n",
       "      <td>114</td>\n",
       "    </tr>\n",
       "    <tr>\n",
       "      <th>36</th>\n",
       "      <td>113</td>\n",
       "    </tr>\n",
       "    <tr>\n",
       "      <th>57</th>\n",
       "      <td>112</td>\n",
       "    </tr>\n",
       "    <tr>\n",
       "      <th>26</th>\n",
       "      <td>112</td>\n",
       "    </tr>\n",
       "    <tr>\n",
       "      <th>12</th>\n",
       "      <td>111</td>\n",
       "    </tr>\n",
       "    <tr>\n",
       "      <th>81</th>\n",
       "      <td>111</td>\n",
       "    </tr>\n",
       "    <tr>\n",
       "      <th>89</th>\n",
       "      <td>111</td>\n",
       "    </tr>\n",
       "    <tr>\n",
       "      <th>18</th>\n",
       "      <td>110</td>\n",
       "    </tr>\n",
       "    <tr>\n",
       "      <th>13</th>\n",
       "      <td>110</td>\n",
       "    </tr>\n",
       "    <tr>\n",
       "      <th>58</th>\n",
       "      <td>110</td>\n",
       "    </tr>\n",
       "    <tr>\n",
       "      <th>84</th>\n",
       "      <td>110</td>\n",
       "    </tr>\n",
       "    <tr>\n",
       "      <th>17</th>\n",
       "      <td>109</td>\n",
       "    </tr>\n",
       "    <tr>\n",
       "      <th>15</th>\n",
       "      <td>109</td>\n",
       "    </tr>\n",
       "    <tr>\n",
       "      <th>1</th>\n",
       "      <td>108</td>\n",
       "    </tr>\n",
       "    <tr>\n",
       "      <th>...</th>\n",
       "      <td>...</td>\n",
       "    </tr>\n",
       "    <tr>\n",
       "      <th>88</th>\n",
       "      <td>91</td>\n",
       "    </tr>\n",
       "    <tr>\n",
       "      <th>87</th>\n",
       "      <td>91</td>\n",
       "    </tr>\n",
       "    <tr>\n",
       "      <th>20</th>\n",
       "      <td>91</td>\n",
       "    </tr>\n",
       "    <tr>\n",
       "      <th>44</th>\n",
       "      <td>91</td>\n",
       "    </tr>\n",
       "    <tr>\n",
       "      <th>80</th>\n",
       "      <td>90</td>\n",
       "    </tr>\n",
       "    <tr>\n",
       "      <th>52</th>\n",
       "      <td>90</td>\n",
       "    </tr>\n",
       "    <tr>\n",
       "      <th>73</th>\n",
       "      <td>90</td>\n",
       "    </tr>\n",
       "    <tr>\n",
       "      <th>71</th>\n",
       "      <td>86</td>\n",
       "    </tr>\n",
       "    <tr>\n",
       "      <th>86</th>\n",
       "      <td>85</td>\n",
       "    </tr>\n",
       "    <tr>\n",
       "      <th>43</th>\n",
       "      <td>85</td>\n",
       "    </tr>\n",
       "    <tr>\n",
       "      <th>64</th>\n",
       "      <td>85</td>\n",
       "    </tr>\n",
       "    <tr>\n",
       "      <th>19</th>\n",
       "      <td>85</td>\n",
       "    </tr>\n",
       "    <tr>\n",
       "      <th>94</th>\n",
       "      <td>85</td>\n",
       "    </tr>\n",
       "    <tr>\n",
       "      <th>23</th>\n",
       "      <td>84</td>\n",
       "    </tr>\n",
       "    <tr>\n",
       "      <th>75</th>\n",
       "      <td>83</td>\n",
       "    </tr>\n",
       "    <tr>\n",
       "      <th>53</th>\n",
       "      <td>83</td>\n",
       "    </tr>\n",
       "    <tr>\n",
       "      <th>82</th>\n",
       "      <td>82</td>\n",
       "    </tr>\n",
       "    <tr>\n",
       "      <th>61</th>\n",
       "      <td>82</td>\n",
       "    </tr>\n",
       "    <tr>\n",
       "      <th>41</th>\n",
       "      <td>81</td>\n",
       "    </tr>\n",
       "    <tr>\n",
       "      <th>79</th>\n",
       "      <td>80</td>\n",
       "    </tr>\n",
       "    <tr>\n",
       "      <th>42</th>\n",
       "      <td>80</td>\n",
       "    </tr>\n",
       "    <tr>\n",
       "      <th>99</th>\n",
       "      <td>79</td>\n",
       "    </tr>\n",
       "    <tr>\n",
       "      <th>90</th>\n",
       "      <td>78</td>\n",
       "    </tr>\n",
       "    <tr>\n",
       "      <th>31</th>\n",
       "      <td>78</td>\n",
       "    </tr>\n",
       "    <tr>\n",
       "      <th>27</th>\n",
       "      <td>76</td>\n",
       "    </tr>\n",
       "    <tr>\n",
       "      <th>0</th>\n",
       "      <td>73</td>\n",
       "    </tr>\n",
       "    <tr>\n",
       "      <th>4</th>\n",
       "      <td>71</td>\n",
       "    </tr>\n",
       "    <tr>\n",
       "      <th>14</th>\n",
       "      <td>69</td>\n",
       "    </tr>\n",
       "    <tr>\n",
       "      <th>54</th>\n",
       "      <td>62</td>\n",
       "    </tr>\n",
       "    <tr>\n",
       "      <th>59</th>\n",
       "      <td>60</td>\n",
       "    </tr>\n",
       "  </tbody>\n",
       "</table>\n",
       "<p>100 rows × 1 columns</p>\n",
       "</div>"
      ],
      "text/plain": [
       "    University_A\n",
       "39           141\n",
       "40           136\n",
       "63           131\n",
       "51           130\n",
       "34           130\n",
       "49           129\n",
       "29           127\n",
       "68           125\n",
       "22           125\n",
       "62           122\n",
       "98           119\n",
       "9            118\n",
       "33           115\n",
       "46           115\n",
       "92           115\n",
       "69           115\n",
       "95           114\n",
       "36           113\n",
       "57           112\n",
       "26           112\n",
       "12           111\n",
       "81           111\n",
       "89           111\n",
       "18           110\n",
       "13           110\n",
       "58           110\n",
       "84           110\n",
       "17           109\n",
       "15           109\n",
       "1            108\n",
       "..           ...\n",
       "88            91\n",
       "87            91\n",
       "20            91\n",
       "44            91\n",
       "80            90\n",
       "52            90\n",
       "73            90\n",
       "71            86\n",
       "86            85\n",
       "43            85\n",
       "64            85\n",
       "19            85\n",
       "94            85\n",
       "23            84\n",
       "75            83\n",
       "53            83\n",
       "82            82\n",
       "61            82\n",
       "41            81\n",
       "79            80\n",
       "42            80\n",
       "99            79\n",
       "90            78\n",
       "31            78\n",
       "27            76\n",
       "0             73\n",
       "4             71\n",
       "14            69\n",
       "54            62\n",
       "59            60\n",
       "\n",
       "[100 rows x 1 columns]"
      ]
     },
     "execution_count": 4,
     "metadata": {},
     "output_type": "execute_result"
    }
   ],
   "source": [
    "uni_a_sorted"
   ]
  },
  {
   "cell_type": "code",
   "execution_count": null,
   "metadata": {},
   "outputs": [],
   "source": [
    "plt.plot()\n"
   ]
  },
  {
   "cell_type": "code",
   "execution_count": 5,
   "metadata": {},
   "outputs": [
    {
     "data": {
      "text/plain": [
       "<matplotlib.axes._subplots.AxesSubplot at 0x1a3b935c6d8>"
      ]
     },
     "execution_count": 5,
     "metadata": {},
     "output_type": "execute_result"
    },
    {
     "data": {
      "image/png": "[encoded data removed]",
      "text/plain": [
       "<Figure size 1080x360 with 1 Axes>"
      ]
     },
     "metadata": {
      "needs_background": "light"
     },
     "output_type": "display_data"
    }
   ],
   "source": [
    "#Graph interpretation of Frequency Chart (Sorted by values)\n",
    "uni_a_sorted['University_A'].value_counts().sort_index().plot(kind='bar', figsize=(15,5))"
   ]
  },
  {
   "cell_type": "code",
   "execution_count": 6,
   "metadata": {},
   "outputs": [
    {
     "data": {
      "text/plain": [
       "<matplotlib.axes._subplots.AxesSubplot at 0x1a3b98f0d68>"
      ]
     },
     "execution_count": 6,
     "metadata": {},
     "output_type": "execute_result"
    },
    {
     "data": {
      "image/png": "[encoded data removed]",
      "text/plain": [
       "<Figure size 1080x360 with 1 Axes>"
      ]
     },
     "metadata": {
      "needs_background": "light"
     },
     "output_type": "display_data"
    }
   ],
   "source": [
    "#Graph interpretation of Frequency Chart\n",
    "uni_a_sorted['University_A'].value_counts().plot(kind='bar', figsize=(15,5))"
   ]
  },
  {
   "cell_type": "code",
   "execution_count": 7,
   "metadata": {},
   "outputs": [
    {
     "data": {
      "image/png": "[encoded data removed]",
      "text/plain": [
       "<Figure size 540x360 with 1 Axes>"
      ]
     },
     "metadata": {
      "needs_background": "light"
     },
     "output_type": "display_data"
    }
   ],
   "source": [
    "#Stem and leaf plot of data\n",
    "fig = stemgraphic.stem_graphic(uni_a['University_A'])"
   ]
  },
  {
   "cell_type": "code",
   "execution_count": 10,
   "metadata": {},
   "outputs": [
    {
     "name": "stdout",
     "output_type": "stream",
     "text": [
      "       University_A\n",
      "count    100.000000\n",
      "mean     100.000000\n",
      "std       16.080605\n",
      "min       60.000000\n",
      "25%       90.000000\n",
      "50%      102.000000\n",
      "75%      110.000000\n",
      "max      141.000000\n",
      "       University_B\n",
      "count    100.000000\n",
      "mean     100.010000\n",
      "std        8.357535\n",
      "min       86.000000\n",
      "25%       94.000000\n",
      "50%       98.000000\n",
      "75%      107.000000\n",
      "max      119.000000\n",
      "University_A    102.0\n",
      "dtype: float64\n",
      "University_A    81\n",
      "dtype: int64\n"
     ]
    }
   ],
   "source": [
    "print(uni_a.describe())\n",
    "print(uni_b.describe())\n",
    "print(uni_a.median())\n",
    "range_a = uni_a.max() - uni_a.min()\n",
    "print(range_a)"
   ]
  },
  {
   "cell_type": "code",
   "execution_count": 50,
   "metadata": {},
   "outputs": [
    {
     "name": "stdout",
     "output_type": "stream",
     "text": [
      "AxesSubplot(0.125,0.125;0.775x0.755)\n",
      "AxesSubplot(0.125,0.125;0.775x0.755)\n"
     ]
    },
    {
     "data": {
      "image/png": "[encoded data removed]",
      "text/plain": [
       "<Figure size 432x288 with 1 Axes>"
      ]
     },
     "metadata": {
      "needs_background": "light"
     },
     "output_type": "display_data"
    },
    {
     "data": {
      "image/png": "[encoded data removed]",
      "text/plain": [
       "<Figure size 432x288 with 1 Axes>"
      ]
     },
     "metadata": {
      "needs_background": "light"
     },
     "output_type": "display_data"
    }
   ],
   "source": [
    "print(uni_a.plot.density())\n",
    "print(uni_b.plot.density())"
   ]
  },
  {
   "cell_type": "code",
   "execution_count": 53,
   "metadata": {},
   "outputs": [],
   "source": [
    "something = pd.concat([uni_a, uni_b], axis = 1)"
   ]
  },
  {
   "cell_type": "code",
   "execution_count": 55,
   "metadata": {},
   "outputs": [],
   "source": [
    "something.to_csv('stats/something.csv')"
   ]
  },
  {
   "cell_type": "code",
   "execution_count": 47,
   "metadata": {},
   "outputs": [],
   "source": [
    "#uni_a = {\"University_A\":[73,108, 102, 103, 71, 102, 107, 102, 107, 118, \n",
    "#                         103, 93, 111, 110, 69, 109, 94, 109, 110, 85,\n",
    "#                         91, 91, 125, 84, 97, 105, 112, 76, 106, 127,\n",
    "#                         93, 78, 107, 115, 130, 97, 113, 94, 103, 141,\n",
    "#                         136, 81, 80, 85, 91, 104, 115, 103, 93, 129,\n",
    "#                         108, 130, 90, 83, 62, 94, 106, 112, 110, 60, \n",
    "#                         92, 82, 122, 131, 85, 92, 97, 107, 125, 115, \n",
    "#                         104, 86, 101, 90, 94, 83, 106, 101, 101, 80, \n",
    "#                         90, 111, 82, 103, 110, 94, 85, 91, 91, 111, \n",
    "#                         78, 93, 115, 106, 85, 114, 99, 107, 119, 79]}\n",
    "\n",
    "#uni_b = {\"University_B\": [86, 92, 93, 110, 87, 107, 98, 116, 97, 104, \n",
    "#                          91, 109, 91, 88, 105, 108, 89, 107, 106, 88,\n",
    "#                          107, 103, 92, 97, 111, 89, 104, 90, 114, 99, \n",
    "#                          94, 106, 91, 119, 87, 96, 99, 98, 87, 97,\n",
    "#                          105, 98, 117, 90, 103, 107, 99, 98, 107, 106,\n",
    "#                          107, 95, 108, 99, 92, 107, 87, 92, 96, 107,\n",
    "#                          89, 97, 89, 96, 103, 96, 91, 119, 93, 112, \n",
    "#                          96, 95, 95, 104, 107, 95, 105, 96, 99, 97, \n",
    "#                          102, 109, 103, 98, 106, 117, 109, 118, 89, 94, \n",
    "#                          96, 109, 109, 95, 97, 97, 108, 98, 94, 107]}"
   ]
  },
  {
   "cell_type": "code",
   "execution_count": null,
   "metadata": {},
   "outputs": [],
   "source": [
    "#Dynamic C++ memory allocation\n",
    "ifstream nums;\n",
    "int i=0;\n",
    "int myarray[init];\n",
    "nums.open('nums.txt')\n",
    "while(nums)\n",
    "    nums >> value\n",
    "    if(i >= init)\n",
    "        init = init*percentage;\n",
    "        myarray = new int [init];\n",
    "    myarray[i] = value;\n",
    "    i++;\n",
    "\n"
   ]
  }
 ],
 "metadata": {
  "kernelspec": {
   "display_name": "Python 3",
   "language": "python",
   "name": "python3"
  },
  "language_info": {
   "codemirror_mode": {
    "name": "ipython",
    "version": 3
   },
   "file_extension": ".py",
   "mimetype": "text/x-python",
   "name": "python",
   "nbconvert_exporter": "python",
   "pygments_lexer": "ipython3",
   "version": "3.7.3"
  }
 },
 "nbformat": 4,
 "nbformat_minor": 2
}
