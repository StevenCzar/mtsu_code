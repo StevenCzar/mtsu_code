{
 "cells": [
  {
   "cell_type": "markdown",
   "metadata": {},
   "source": [
    "Notes (9/4/19):\n",
    "\n",
    "    Overview:\n",
    "        1) Frequency Chart\n",
    "        2) Stem and Leaf Display\n",
    "        3) Grouped Data\n",
    "    \n",
    "    General Practices:\n",
    "        Do not mess with original data, make a copy\n",
    "    \n",
    "    Grouped Data\n",
    "        (55,65] <- Range of data, includes 65, DOES NOT INCLUDE 55\n",
    "        (65,75] <- numbers 66 through 75\n",
    "        (75,85] <- numbers 76 through 85\n",
    "        \n",
    "Notes (9/6/19):\n",
    "\n",
    "    Overview:\n",
    "        How to make a Box-Plot\n",
    "        \n",
    "        IQR = Inter Quartile Range\n",
    "        IQR = Q3 - Q1\n",
    "        LF = Lower Frame\n",
    "        LF = Q1 - 1.5IQR\n",
    "        UF = Upper Frame\n",
    "        UF = Q3 + 1.5IQR\n",
    "        \n",
    "        Upper Fence is at actual value that is closest without being above it\n",
    "        Lower Fence is at actual value that is closest without being below it\n",
    "        \n",
    "        5 Number Summary:\n",
    "            1) Minimum\n",
    "            2) Q1\n",
    "            3) Median\n",
    "            4) Q3\n",
    "            5) Maximum\n",
    "            \n",
    "Notes (9/9/2019):\n",
    "\n",
    "    Book webpage for datasets: pearsonhighered.com/akritas\n",
    "    \n",
    "Notes (9/11/2019):\n",
    "\n",
    "    Parameter: Population Statistic\n",
    "    Statistic: A function of observations\n",
    "    Inference: Statistical Testing of Hypotheses\n",
    "    \n",
    "    Sampling with and without replacement\n",
    "        With: After picking an option, your composition remains the same.  (10R 20B -> choose 1 -> 10R 20B)\n",
    "        Without: After picking an option, your composition changes. (10R 20B -> choose 1 -> 10R 19B)\n",
    "        \n",
    "    Variable -> Values available for choices\n",
    "    Random Variable -> Chance of a value being chosen for a variable\n",
    "        \n",
    "    Discrete -> Categorical\n",
    "    Continuous -> Non-categorical\n",
    "    Mixed -> similar to reLu or piecewise function\n",
    "    \n",
    "    "
   ]
  },
  {
   "cell_type": "code",
   "execution_count": 1,
   "metadata": {},
   "outputs": [],
   "source": [
    "import pandas as pd\n",
    "import matplotlib as plt\n",
    "import stemgraphic\n",
    "import seaborn as sns"
   ]
  },
  {
   "cell_type": "code",
   "execution_count": 2,
   "metadata": {},
   "outputs": [],
   "source": [
    "def get_box_stats(df):\n",
    "    iqr = df.quantile(.75) - df.quantile(.25)\n",
    "    lf = df.quantile(.25) - 1.5*iqr\n",
    "    uf = df.quantile(.75) + 1.5*iqr\n",
    "    print('Inter Quartile Range: {}'.format(iqr))\n",
    "    print('Lower Frame = {}'.format(lf))\n",
    "    print('Upper Frame = {}'.format(uf))\n",
    "    print('Middle Line = {}'.format(df.quantile(.5)))\n",
    "    df.boxplot()"
   ]
  },
  {
   "cell_type": "code",
   "execution_count": 3,
   "metadata": {},
   "outputs": [],
   "source": [
    "def get_stat_summary(df):\n",
    "    print(df.describe())\n",
    "    print('median {}'.format(df.median()))\n",
    "    range_df = df.max() - df.min()\n",
    "    print('range {}'.format(range_df))"
   ]
  },
  {
   "cell_type": "markdown",
   "metadata": {},
   "source": [
    "***SECTION FOR EXAM 1***"
   ]
  },
  {
   "cell_type": "code",
   "execution_count": 11,
   "metadata": {},
   "outputs": [],
   "source": [
    "speech = pd.read_csv('stats/datasets_made/speech.csv')\n",
    "speech = speech.drop(['Unnamed: 0'], axis=1)\n",
    "days = pd.read_csv('stats/datasets_made/days.csv')\n",
    "days = days.drop(['Unnamed: 0'], axis=1)"
   ]
  },
  {
   "cell_type": "code",
   "execution_count": 12,
   "metadata": {
    "scrolled": false
   },
   "outputs": [
    {
     "name": "stdout",
     "output_type": "stream",
     "text": [
      "Inter Quartile Range: Length_in_words    1516.5\n",
      "dtype: float64\n",
      "Lower Frame = Length_in_words   -867.25\n",
      "dtype: float64\n",
      "Upper Frame = Length_in_words    5198.75\n",
      "dtype: float64\n",
      "Middle Line = Length_in_words    2144.0\n",
      "Name: 0.5, dtype: float64\n"
     ]
    },
    {
     "data": {
      "image/png": "[encoded data removed]",
      "text/plain": [
       "<Figure size 432x288 with 1 Axes>"
      ]
     },
     "metadata": {
      "needs_background": "light"
     },
     "output_type": "display_data"
    }
   ],
   "source": [
    "get_box_stats(speech)"
   ]
  },
  {
   "cell_type": "code",
   "execution_count": 23,
   "metadata": {
    "scrolled": true
   },
   "outputs": [
    {
     "data": {
      "text/plain": [
       "0.795"
      ]
     },
     "execution_count": 23,
     "metadata": {},
     "output_type": "execute_result"
    }
   ],
   "source": [
    "(.2*.15)+(.9*.85)"
   ]
  },
  {
   "cell_type": "code",
   "execution_count": 25,
   "metadata": {},
   "outputs": [
    {
     "data": {
      "text/plain": [
       "0.9622641509433962"
      ]
     },
     "execution_count": 25,
     "metadata": {},
     "output_type": "execute_result"
    }
   ],
   "source": [
    "(.9*.85)/.795"
   ]
  },
  {
   "cell_type": "code",
   "execution_count": 24,
   "metadata": {},
   "outputs": [
    {
     "data": {
      "text/plain": [
       "0.03773584905660377"
      ]
     },
     "execution_count": 24,
     "metadata": {},
     "output_type": "execute_result"
    }
   ],
   "source": [
    "(.2*.15)/.795"
   ]
  },
  {
   "cell_type": "code",
   "execution_count": 13,
   "metadata": {
    "scrolled": false
   },
   "outputs": [
    {
     "name": "stdout",
     "output_type": "stream",
     "text": [
      "       Length_in_words\n",
      "count        56.000000\n",
      "mean       2358.750000\n",
      "std        1405.777976\n",
      "min         135.000000\n",
      "25%        1407.500000\n",
      "50%        2144.000000\n",
      "75%        2924.000000\n",
      "max        8445.000000\n",
      "median Length_in_words    2144.0\n",
      "dtype: float64\n",
      "range Length_in_words    8310\n",
      "dtype: int64\n"
     ]
    }
   ],
   "source": [
    "get_stat_summary(speech)"
   ]
  },
  {
   "cell_type": "code",
   "execution_count": 17,
   "metadata": {},
   "outputs": [
    {
     "data": {
      "text/plain": [
       "<matplotlib.axes._subplots.AxesSubplot at 0x1f71ded5e48>"
      ]
     },
     "execution_count": 17,
     "metadata": {},
     "output_type": "execute_result"
    },
    {
     "data": {
      "image/png": "[encoded data removed]",
      "text/plain": [
       "<Figure size 432x288 with 1 Axes>"
      ]
     },
     "metadata": {
      "needs_background": "light"
     },
     "output_type": "display_data"
    }
   ],
   "source": [
    "sns.distplot(speech, kde=True, rug=True)"
   ]
  },
  {
   "cell_type": "code",
   "execution_count": null,
   "metadata": {},
   "outputs": [],
   "source": []
  },
  {
   "cell_type": "markdown",
   "metadata": {},
   "source": [
    "***END EXAM 1 SECTION***"
   ]
  },
  {
   "cell_type": "code",
   "execution_count": 22,
   "metadata": {},
   "outputs": [
    {
     "data": {
      "image/png": "[encoded data removed]",
      "text/plain": [
       "<Figure size 432x432 with 3 Axes>"
      ]
     },
     "metadata": {},
     "output_type": "display_data"
    }
   ],
   "source": [
    "with sns.axes_style(\"white\"):\n",
    "    sns.jointplot(x=uni_a, y=uni_b, kind=\"hex\", color=\"k\")"
   ]
  },
  {
   "cell_type": "code",
   "execution_count": 18,
   "metadata": {},
   "outputs": [],
   "source": [
    "#Read data in and split\n",
    "data_stuff = pd.read_csv('stats/datasets_made/something.csv')\n",
    "data_stuff = data_stuff.drop(['Unnamed: 0'], axis=1)\n",
    "uni_a = pd.DataFrame(data=data_stuff['University_A'])\n",
    "uni_b = pd.DataFrame(data=data_stuff['University_B'])"
   ]
  },
  {
   "cell_type": "code",
   "execution_count": 19,
   "metadata": {},
   "outputs": [],
   "source": [
    "#Sorted versions of datasets\n",
    "uni_a_sorted = uni_a.sort_values(by='University_A', ascending=False)\n",
    "uni_b_sorted = uni_b.sort_values(by='University_B', ascending=False)"
   ]
  },
  {
   "cell_type": "code",
   "execution_count": null,
   "metadata": {},
   "outputs": [],
   "source": [
    "get_box_stats(data_stuff)"
   ]
  },
  {
   "cell_type": "code",
   "execution_count": null,
   "metadata": {},
   "outputs": [],
   "source": [
    "get_box_stats(uni_b)"
   ]
  },
  {
   "cell_type": "code",
   "execution_count": null,
   "metadata": {},
   "outputs": [],
   "source": [
    "#Graph interpretation of Frequency Chart (Sorted by values)\n",
    "uni_a_sorted['University_A'].value_counts().sort_index().plot(kind='bar', figsize=(15,5))"
   ]
  },
  {
   "cell_type": "code",
   "execution_count": null,
   "metadata": {},
   "outputs": [],
   "source": [
    "#Graph interpretation of Frequency Chart\n",
    "uni_a_sorted['University_A'].value_counts().plot(kind='bar', figsize=(15,5))"
   ]
  },
  {
   "cell_type": "code",
   "execution_count": null,
   "metadata": {},
   "outputs": [],
   "source": [
    "#Stem and leaf plot of data\n",
    "fig = stemgraphic.stem_graphic(uni_a['University_A'])"
   ]
  },
  {
   "cell_type": "code",
   "execution_count": null,
   "metadata": {},
   "outputs": [],
   "source": [
    "print(uni_a.describe())\n",
    "print(uni_b.describe())\n",
    "print(uni_a.median())\n",
    "range_a = uni_a.max() - uni_a.min()\n",
    "print(range_a)"
   ]
  },
  {
   "cell_type": "code",
   "execution_count": null,
   "metadata": {},
   "outputs": [],
   "source": [
    "print(uni_a.plot.density())\n",
    "print(uni_b.plot.density())"
   ]
  },
  {
   "cell_type": "code",
   "execution_count": null,
   "metadata": {},
   "outputs": [],
   "source": [
    "something = pd.concat([uni_a, uni_b], axis = 1)"
   ]
  },
  {
   "cell_type": "code",
   "execution_count": 10,
   "metadata": {},
   "outputs": [],
   "source": [
    "days = pd.DataFrame(data=fav_day)\n",
    "days.to_csv('stats/datasets_made/days.csv')"
   ]
  },
  {
   "cell_type": "code",
   "execution_count": null,
   "metadata": {},
   "outputs": [],
   "source": [
    "something.to_csv('stats/datasets_made/something.csv')\n",
    "speech.to_csv('stats/datasets_made/speech.csv')"
   ]
  },
  {
   "cell_type": "code",
   "execution_count": null,
   "metadata": {},
   "outputs": [],
   "source": [
    "#uni_a = {\"University_A\":[73,108, 102, 103, 71, 102, 107, 102, 107, 118, \n",
    "#                         103, 93, 111, 110, 69, 109, 94, 109, 110, 85,\n",
    "#                         91, 91, 125, 84, 97, 105, 112, 76, 106, 127,\n",
    "#                         93, 78, 107, 115, 130, 97, 113, 94, 103, 141,\n",
    "#                         136, 81, 80, 85, 91, 104, 115, 103, 93, 129,\n",
    "#                         108, 130, 90, 83, 62, 94, 106, 112, 110, 60, \n",
    "#                         92, 82, 122, 131, 85, 92, 97, 107, 125, 115, \n",
    "#                         104, 86, 101, 90, 94, 83, 106, 101, 101, 80, \n",
    "#                         90, 111, 82, 103, 110, 94, 85, 91, 91, 111, \n",
    "#                         78, 93, 115, 106, 85, 114, 99, 107, 119, 79]}\n",
    "\n",
    "#uni_b = {\"University_B\": [86, 92, 93, 110, 87, 107, 98, 116, 97, 104, \n",
    "#                          91, 109, 91, 88, 105, 108, 89, 107, 106, 88,\n",
    "#                          107, 103, 92, 97, 111, 89, 104, 90, 114, 99, \n",
    "#                          94, 106, 91, 119, 87, 96, 99, 98, 87, 97,\n",
    "#                          105, 98, 117, 90, 103, 107, 99, 98, 107, 106,\n",
    "#                          107, 95, 108, 99, 92, 107, 87, 92, 96, 107,\n",
    "#                          89, 97, 89, 96, 103, 96, 91, 119, 93, 112, \n",
    "#                          96, 95, 95, 104, 107, 95, 105, 96, 99, 97, \n",
    "#                          102, 109, 103, 98, 106, 117, 109, 118, 89, 94, \n",
    "#                          96, 109, 109, 95, 97, 97, 108, 98, 94, 107]}"
   ]
  },
  {
   "cell_type": "code",
   "execution_count": 8,
   "metadata": {},
   "outputs": [],
   "source": [
    "fav_day = {'Day': ['Th', 'Sa', 'F', 'F', 'Su', 'W', 'Sa', 'F','Tu', 'F', 'Sa','M','F','F', 'Su', 'F', 'Tu', 'W', 'Sa', 'F',\n",
    "                  'W','M','W','W','F','F','W','Th','Tu','F','Tu','Sa','F','Tu','F','Sa','Sa','Sa','Su','F']}"
   ]
  },
  {
   "cell_type": "code",
   "execution_count": null,
   "metadata": {},
   "outputs": [],
   "source": [
    "#speech_length = {'Length_in_words': [1425,1125,1128,5433,2242,2283,135,1172,1337,1802,2446,1507,\n",
    "#                                    2308,3838,2480,1526,2449,2170,1729,8445,2978,3318,1355,1571,\n",
    "#                                    2158,4776,1681,4059,1437,2073,1175,996,4388,3801,2130,2406,\n",
    "#                                    1209,3319,2015,1883,1668,3217,2821,3967,1807,1087,4467,3634,2217,1340,2463,2906,698,985,559,2546]}\n",
    "\n"
   ]
  },
  {
   "cell_type": "code",
   "execution_count": null,
   "metadata": {},
   "outputs": [],
   "source": [
    "#Dynamic C++ memory allocation\n",
    "ifstream nums;\n",
    "int i=0;\n",
    "int myarray[init];\n",
    "nums.open('nums.txt')\n",
    "while(nums)\n",
    "    nums >> value\n",
    "    if(i >= init)\n",
    "        init = init*percentage;\n",
    "        myarray = new int [init];\n",
    "    myarray[i] = value;\n",
    "    i++;\n",
    "\n"
   ]
  }
 ],
 "metadata": {
  "kernelspec": {
   "display_name": "Python 3",
   "language": "python",
   "name": "python3"
  },
  "language_info": {
   "codemirror_mode": {
    "name": "ipython",
    "version": 3
   },
   "file_extension": ".py",
   "mimetype": "text/x-python",
   "name": "python",
   "nbconvert_exporter": "python",
   "pygments_lexer": "ipython3",
   "version": "3.7.3"
  }
 },
 "nbformat": 4,
 "nbformat_minor": 2
}
